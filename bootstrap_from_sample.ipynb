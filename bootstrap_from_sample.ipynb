{
 "cells": [
  {
   "cell_type": "code",
   "execution_count": 160,
   "metadata": {},
   "outputs": [],
   "source": [
    "import turtle as t\n",
    "import random\n",
    "import math\n",
    "import numpy as np\n",
    "import matplotlib.pyplot as plt\n",
    "import matplotlib.patches as patches"
   ]
  },
  {
   "cell_type": "code",
   "execution_count": null,
   "metadata": {},
   "outputs": [],
   "source": [
    "def line(x1,y1,x2,y2):\n",
    "    t.up()\n",
    "    t.goto(x1,y1)\n",
    "    t.down()\n",
    "    t.goto(x2,y2)\n",
    "    return\n",
    "\n",
    "def dotlist(seq1,seq2):\n",
    "    for i in range(len(seq1)):\n",
    "        t.up()\n",
    "        t.goto(seq1[i],seq2[i])\n",
    "        t.down()\n",
    "        t.dot()\n",
    "\n",
    "def count_in_circle(seq1,seq2,r):\n",
    "    count = 0\n",
    "    for i in range(len(seq1)):\n",
    "        if seq1[i]**2 + seq2[i]**2 <= r**2:\n",
    "            count += 1\n",
    "    return count\n",
    "\n",
    "def random_List(size,r):\n",
    "\n",
    "    result = []\n",
    "    for v in range(size):\n",
    "        result.append(random.uniform(-r, r))\n",
    "    return result"
   ]
  },
  {
   "cell_type": "markdown",
   "metadata": {},
   "source": [
    "* 시각화"
   ]
  },
  {
   "cell_type": "code",
   "execution_count": 172,
   "metadata": {},
   "outputs": [],
   "source": [
    "#샘플링\n",
    "r = 100\n",
    "n = 1000\n",
    "\n",
    "x = random_List(n,r)\n",
    "y = random_List(n,r)\n"
   ]
  },
  {
   "cell_type": "code",
   "execution_count": 181,
   "metadata": {},
   "outputs": [
    {
     "data": {
      "image/png": "[encoded data removed]",
      "text/plain": [
       "<Figure size 432x288 with 1 Axes>"
      ]
     },
     "metadata": {
      "needs_background": "light"
     },
     "output_type": "display_data"
    },
    {
     "name": "stdout",
     "output_type": "stream",
     "text": [
      "실제값:  31415.926535897932 , 추정치:  31760.0   n크기:  1000\n"
     ]
    }
   ],
   "source": [
    "#샘플링\n",
    "r = 100\n",
    "n = 1000\n",
    "\n",
    "x = random_List(n,r)\n",
    "y = random_List(n,r)\n",
    "\n",
    "\n",
    "\n",
    "figure, axes = plt.subplots()\n",
    "# axes.plot([-300,300],[-300,300])\n",
    "\n",
    "draw_circle = plt.Circle((0, 0), 100,fill=False)\n",
    "drow_reg = patches.Rectangle(\n",
    "        (-100, -100),\n",
    "        200,\n",
    "        200,\n",
    "        edgecolor = 'blue',\n",
    "        facecolor = 'red',\n",
    "        fill=False\n",
    "     )\n",
    "\n",
    "\n",
    "axes.set_aspect(1)\n",
    "axes.add_artist(draw_circle)\n",
    "axes.add_patch(drow_reg)\n",
    "plt.scatter(x,y,s=1)\n",
    "plt.title('circle')\n",
    "plt.xlim([-120, 120])      # X축의 범위: [xmin, xmax]\n",
    "plt.ylim([-120, 120])     # Y축의 범위: [ymin, ymax]\n",
    "\n",
    "\n",
    "plt.show()\n",
    "\n",
    "circle = math.pi*r**2\n",
    "square = r*2*r*2\n",
    "n_in_circle = count_in_circle(x,y,r)\n",
    "e_circle = square*n_in_circle/n\n",
    "print(\"실제값: \",circle,\", 추정치: \",e_circle, \"  n크기: \",n)"
   ]
  },
  {
   "cell_type": "markdown",
   "metadata": {},
   "source": [
    "* n크기에 따른 추정치 비교"
   ]
  },
  {
   "cell_type": "code",
   "execution_count": 186,
   "metadata": {},
   "outputs": [
    {
     "name": "stdout",
     "output_type": "stream",
     "text": [
      "실제값:  31415.926535897932 , 추정치:  30400.0   n크기:  100\n",
      "실제값:  31415.926535897932 , 추정치:  30400.0   n크기:  100\n",
      "실제값:  31415.926535897932 , 추정치:  31600.0   n크기:  100\n",
      "실제값:  31415.926535897932 , 추정치:  32000.0   n크기:  100\n",
      "실제값:  31415.926535897932 , 추정치:  29200.0   n크기:  100\n",
      "실제값:  31415.926535897932 , 추정치:  31160.0   n크기:  1000\n",
      "실제값:  31415.926535897932 , 추정치:  31424.0   n크기:  10000\n"
     ]
    }
   ],
   "source": [
    "# 100개일경우 신뢰도가 많이 떨어짐\n",
    "for i in [100,100,100,100,100,1000,10000]:\n",
    "    r = 100\n",
    "    n = i\n",
    "\n",
    "    x = random_List(n,r)\n",
    "    y = random_List(n,r)\n",
    "\n",
    "\n",
    "\n",
    "    circle = math.pi*r**2\n",
    "    square = r*2*r*2\n",
    "    n_in_circle = count_in_circle(x,y,r)\n",
    "    e_circle = square*n_in_circle/n\n",
    "    print(\"실제값: \",circle,\", 추정치: \",e_circle, \"  n크기: \",n)"
   ]
  },
  {
   "cell_type": "markdown",
   "metadata": {},
   "source": [
    "* 샘플에서 부트스트랩하여 넓이 신뢰구간 추정 확인\n",
    "* 원래 샘플의 수에 따른 차이 분석"
   ]
  },
  {
   "cell_type": "markdown",
   "metadata": {},
   "source": [
    "* 샘플수 100, 1000, 1000의 결과 모두 신뢰구간에 참값(31415......)을 포함한다.\n",
    "* 샘플수 100인경우 신뢰구간이 넓음"
   ]
  },
  {
   "cell_type": "code",
   "execution_count": 182,
   "metadata": {},
   "outputs": [
    {
     "data": {
      "image/png": "[encoded data removed]",
      "text/plain": [
       "<Figure size 432x288 with 1 Axes>"
      ]
     },
     "metadata": {
      "needs_background": "light"
     },
     "output_type": "display_data"
    },
    {
     "name": "stdout",
     "output_type": "stream",
     "text": [
      "평균:  30041.2 , 신뢰구간_l:  27200.0   신뢰구간_u:  32800.0  원샘플수:  100\n"
     ]
    }
   ],
   "source": [
    "r = 100\n",
    "n = 100\n",
    "n_trial = 1000\n",
    "\n",
    "x = random_List(n,r)\n",
    "y = random_List(n,r)\n",
    "\n",
    "circle = math.pi*r**2\n",
    "square = r*2*r*2\n",
    "\n",
    "xy = np.concatenate((np.array(x).reshape(-1,1),np.array(y).reshape(-1,1)),axis=1)\n",
    "xy = list(xy)\n",
    "results = []\n",
    "for i in range(n_trial):\n",
    "    count = 0\n",
    "    for i in range(n):\n",
    "        sampled_point = random.sample(xy, 1)\n",
    "        sampled_point = np.array(sampled_point)[0]\n",
    "        if sampled_point[0]**2 + sampled_point[1]**2 <= r**2: count += 1\n",
    "    e_circle = square*count/n\n",
    "    results.append(e_circle)\n",
    "\n",
    "results.sort()\n",
    "\n",
    "import matplotlib.pyplot as plt\n",
    "\n",
    "\n",
    "mean = sum(results)/n_trial\n",
    "lower_bound = results[round(n_trial*0.05)]\n",
    "upper_bound = results[round(n_trial*0.95)]\n",
    "\n",
    "\n",
    "plt.hist(results)\n",
    "plt.axvline(lower_bound, color='lightgray', linestyle='--', linewidth=2)\n",
    "plt.axvline(upper_bound, color='lightgray', linestyle='--', linewidth=2)\n",
    "plt.axvline(mean, color='gray', linestyle='--', linewidth=2)\n",
    "\n",
    "plt.show()\n",
    "\n",
    "print(\"평균: \",mean,\", 신뢰구간_l: \",lower_bound, \"  신뢰구간_u: \",upper_bound, \" 원샘플수: \",n)"
   ]
  },
  {
   "cell_type": "code",
   "execution_count": 151,
   "metadata": {},
   "outputs": [
    {
     "data": {
      "image/png": "[encoded data removed]",
      "text/plain": [
       "<Figure size 432x288 with 1 Axes>"
      ]
     },
     "metadata": {
      "needs_background": "light"
     },
     "output_type": "display_data"
    },
    {
     "name": "stdout",
     "output_type": "stream",
     "text": [
      "평균:  31690.24 , 신뢰구간_l:  30800.0   신뢰구간_u:  32520.0  원샘플수:  1000\n"
     ]
    }
   ],
   "source": [
    "r = 100\n",
    "n = 1000\n",
    "n_trial = 1000\n",
    "\n",
    "x = random_List(n,r)\n",
    "y = random_List(n,r)\n",
    "\n",
    "circle = math.pi*r**2\n",
    "square = r*2*r*2\n",
    "\n",
    "xy = np.concatenate((np.array(x).reshape(-1,1),np.array(y).reshape(-1,1)),axis=1)\n",
    "xy = list(xy)\n",
    "results = []\n",
    "for i in range(n_trial):\n",
    "    count = 0\n",
    "    for i in range(n):\n",
    "        sampled_point = random.sample(xy, 1)\n",
    "        sampled_point = np.array(sampled_point)[0]\n",
    "        if sampled_point[0]**2 + sampled_point[1]**2 <= r**2: count += 1\n",
    "    e_circle = square*count/n\n",
    "    results.append(e_circle)\n",
    "\n",
    "results.sort()\n",
    "\n",
    "import matplotlib.pyplot as plt\n",
    "\n",
    "\n",
    "mean = sum(results)/n_trial\n",
    "lower_bound = results[round(n_trial*0.05)]\n",
    "upper_bound = results[round(n_trial*0.95)]\n",
    "\n",
    "\n",
    "plt.hist(results)\n",
    "plt.axvline(lower_bound, color='lightgray', linestyle='--', linewidth=2)\n",
    "plt.axvline(upper_bound, color='lightgray', linestyle='--', linewidth=2)\n",
    "plt.axvline(mean, color='gray', linestyle='--', linewidth=2)\n",
    "\n",
    "plt.show()\n",
    "\n",
    "print(\"평균: \",mean,\", 신뢰구간_l: \",lower_bound, \"  신뢰구간_u: \",upper_bound, \" 원샘플수: \",n)"
   ]
  },
  {
   "cell_type": "code",
   "execution_count": 147,
   "metadata": {},
   "outputs": [
    {
     "data": {
      "image/png": "[encoded data removed]",
      "text/plain": [
       "<Figure size 432x288 with 1 Axes>"
      ]
     },
     "metadata": {
      "needs_background": "light"
     },
     "output_type": "display_data"
    },
    {
     "name": "stdout",
     "output_type": "stream",
     "text": [
      "평균:  31578.54 , 신뢰구간_l:  31312.0   신뢰구간_u:  31844.0  원샘플수:  10000\n"
     ]
    }
   ],
   "source": [
    "r = 100\n",
    "n = 10000\n",
    "n_trial = 1000\n",
    "\n",
    "x = random_List(n,r)\n",
    "y = random_List(n,r)\n",
    "\n",
    "circle = math.pi*r**2\n",
    "square = r*2*r*2\n",
    "\n",
    "xy = np.concatenate((np.array(x).reshape(-1,1),np.array(y).reshape(-1,1)),axis=1)\n",
    "xy = list(xy)\n",
    "results = []\n",
    "for i in range(n_trial):\n",
    "    count = 0\n",
    "    for i in range(n):\n",
    "        sampled_point = random.sample(xy, 1)\n",
    "        sampled_point = np.array(sampled_point)[0]\n",
    "        if sampled_point[0]**2 + sampled_point[1]**2 <= r**2: count += 1\n",
    "    e_circle = square*count/n\n",
    "    results.append(e_circle)\n",
    "\n",
    "results.sort()\n",
    "\n",
    "import matplotlib.pyplot as plt\n",
    "\n",
    "\n",
    "mean = sum(results)/n_trial\n",
    "lower_bound = results[round(n_trial*0.05)]\n",
    "upper_bound = results[round(n_trial*0.95)]\n",
    "\n",
    "\n",
    "plt.hist(results)\n",
    "plt.axvline(lower_bound, color='lightgray', linestyle='--', linewidth=2)\n",
    "plt.axvline(upper_bound, color='lightgray', linestyle='--', linewidth=2)\n",
    "plt.axvline(mean, color='gray', linestyle='--', linewidth=2)\n",
    "\n",
    "plt.show()\n",
    "\n",
    "print(\"평균: \",mean,\", 신뢰구간_l: \",lower_bound, \"  신뢰구간_u: \",upper_bound, \" 원샘플수: \",n)"
   ]
  },
  {
   "cell_type": "code",
   "execution_count": null,
   "metadata": {},
   "outputs": [],
   "source": []
  }
 ],
 "metadata": {
  "interpreter": {
   "hash": "ce43f5afc3da1ea9c2859aca36b65d9af6136ef930ed7edf27ba0e49c79ddf9d"
  },
  "kernelspec": {
   "display_name": "Python 3.7.11 ('pro1')",
   "language": "python",
   "name": "python3"
  },
  "language_info": {
   "codemirror_mode": {
    "name": "ipython",
    "version": 3
   },
   "file_extension": ".py",
   "mimetype": "text/x-python",
   "name": "python",
   "nbconvert_exporter": "python",
   "pygments_lexer": "ipython3",
   "version": "3.7.11"
  },
  "orig_nbformat": 4
 },
 "nbformat": 4,
 "nbformat_minor": 2
}
